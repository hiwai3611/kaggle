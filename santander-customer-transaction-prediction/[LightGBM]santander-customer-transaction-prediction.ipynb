{
 "cells": [
  {
   "cell_type": "markdown",
   "metadata": {},
   "source": [
    "https://www.kaggle.com/jesucristo/30-lines-starter-solution-fast"
   ]
  },
  {
   "cell_type": "code",
   "execution_count": null,
   "metadata": {},
   "outputs": [
    {
     "name": "stdout",
     "output_type": "stream",
     "text": [
      "Fold 0\n",
      "Training until validation scores don't improve for 2000 rounds.\n",
      "[5000]\ttraining's auc: 0.925151\tvalid_1's auc: 0.898164\n",
      "[10000]\ttraining's auc: 0.940839\tvalid_1's auc: 0.901261\n",
      "Early stopping, best iteration is:\n",
      "[10313]\ttraining's auc: 0.941697\tvalid_1's auc: 0.901416\n",
      "Fold 1\n",
      "Training until validation scores don't improve for 2000 rounds.\n",
      "[5000]\ttraining's auc: 0.925388\tvalid_1's auc: 0.897582\n",
      "[10000]\ttraining's auc: 0.941018\tvalid_1's auc: 0.899296\n",
      "[15000]\ttraining's auc: 0.953868\tvalid_1's auc: 0.899497\n",
      "Early stopping, best iteration is:\n",
      "[13782]\ttraining's auc: 0.950925\tvalid_1's auc: 0.899681\n",
      "Fold 2\n",
      "Training until validation scores don't improve for 2000 rounds.\n",
      "[5000]\ttraining's auc: 0.925878\tvalid_1's auc: 0.889935\n",
      "[10000]\ttraining's auc: 0.941418\tvalid_1's auc: 0.892076\n",
      "Early stopping, best iteration is:\n",
      "[11513]\ttraining's auc: 0.945485\tvalid_1's auc: 0.892175\n",
      "Fold 3\n",
      "Training until validation scores don't improve for 2000 rounds.\n",
      "[5000]\ttraining's auc: 0.924659\tvalid_1's auc: 0.904102\n",
      "[10000]\ttraining's auc: 0.940607\tvalid_1's auc: 0.905769\n",
      "Early stopping, best iteration is:\n",
      "[10923]\ttraining's auc: 0.943171\tvalid_1's auc: 0.905987\n",
      "Fold 4\n",
      "Training until validation scores don't improve for 2000 rounds.\n",
      "[5000]\ttraining's auc: 0.925614\tvalid_1's auc: 0.891877\n",
      "[10000]\ttraining's auc: 0.941327\tvalid_1's auc: 0.893826\n",
      "Early stopping, best iteration is:\n",
      "[10605]\ttraining's auc: 0.943012\tvalid_1's auc: 0.893983\n",
      "Fold 5\n",
      "Training until validation scores don't improve for 2000 rounds.\n",
      "[5000]\ttraining's auc: 0.925178\tvalid_1's auc: 0.898885\n",
      "[10000]\ttraining's auc: 0.940922\tvalid_1's auc: 0.900185\n",
      "Early stopping, best iteration is:\n",
      "[9350]\ttraining's auc: 0.939083\tvalid_1's auc: 0.900302\n",
      "Fold 6\n",
      "Training until validation scores don't improve for 2000 rounds.\n",
      "[5000]\ttraining's auc: 0.925004\tvalid_1's auc: 0.899852\n",
      "[10000]\ttraining's auc: 0.940738\tvalid_1's auc: 0.901646\n"
     ]
    }
   ],
   "source": [
    "import numpy as np\n",
    "import pandas as pd\n",
    "import lightgbm as lgb\n",
    "from sklearn.metrics import roc_auc_score\n",
    "from sklearn.model_selection import StratifiedKFold\n",
    "\n",
    "train_df = pd.read_csv('./data/train.csv')\n",
    "test_df = pd.read_csv('./data/test.csv')\n",
    "\n",
    "features = [c for c in train_df.columns if c not in ['ID_code', 'target']] #basic features\n",
    "target = train_df['target']\n",
    "param = {\n",
    "    'bagging_freq': 5,          \n",
    "    'bagging_fraction': 0.38,   \n",
    "    'boost_from_average':'false',   \n",
    "    'boost': 'gbdt',             \n",
    "    'feature_fraction': 0.04,     \n",
    "    'learning_rate': 0.0085,\n",
    "    'max_depth': -1,             \n",
    "    'metric':'auc',                \n",
    "    'min_data_in_leaf': 80,    \n",
    "    'min_sum_hessian_in_leaf': 10.0,\n",
    "    'num_leaves': 13,            \n",
    "    'num_threads': 8,             \n",
    "    'tree_learner': 'serial',   \n",
    "    'objective': 'binary',\n",
    "    'reg_alpha': 0.1302650970728192, \n",
    "    'reg_lambda': 0.3603427518866501,\n",
    "    'verbosity': 1\n",
    "}\n",
    "\n",
    "folds = StratifiedKFold(n_splits=12, shuffle=False, random_state=99999)\n",
    "\n",
    "oof = np.zeros(len(train_df))\n",
    "predictions = np.zeros(len(test_df))\n",
    "\n",
    "for fold_, (trn_idx, val_idx) in enumerate(folds.split(train_df.values, target.values)):\n",
    "    print(\"Fold {}\".format(fold_))\n",
    "    trn_data = lgb.Dataset(train_df.iloc[trn_idx][features], label=target.iloc[trn_idx])\n",
    "    val_data = lgb.Dataset(train_df.iloc[val_idx][features], label=target.iloc[val_idx])\n",
    "    clf = lgb.train(param, trn_data, 1000000, valid_sets = [trn_data, val_data], verbose_eval=5000, early_stopping_rounds = 2000)\n",
    "    oof[val_idx] = clf.predict(train_df.iloc[val_idx][features], num_iteration=clf.best_iteration)\n",
    "    predictions += clf.predict(test_df[features], num_iteration=clf.best_iteration) / folds.n_splits\n",
    "    \n",
    "print(\"CV score: {:<8.5f}\".format(roc_auc_score(target, oof)))\n",
    "\n",
    "sub = pd.DataFrame({\"ID_code\": test_df.ID_code.values})\n",
    "sub[\"target\"] = predictions\n",
    "sub.to_csv(\"submission.csv\", index=False)"
   ]
  },
  {
   "cell_type": "code",
   "execution_count": null,
   "metadata": {},
   "outputs": [],
   "source": []
  }
 ],
 "metadata": {
  "kernelspec": {
   "display_name": "Python 3",
   "language": "python",
   "name": "python3"
  },
  "language_info": {
   "codemirror_mode": {
    "name": "ipython",
    "version": 3
   },
   "file_extension": ".py",
   "mimetype": "text/x-python",
   "name": "python",
   "nbconvert_exporter": "python",
   "pygments_lexer": "ipython3",
   "version": "3.6.5"
  }
 },
 "nbformat": 4,
 "nbformat_minor": 2
}
